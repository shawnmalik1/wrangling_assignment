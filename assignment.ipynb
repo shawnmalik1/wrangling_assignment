{
 "cells": [
  {
   "cell_type": "markdown",
   "id": "13ad028b-72b7-43ed-aa78-96fd4e518040",
   "metadata": {
    "id": "13ad028b-72b7-43ed-aa78-96fd4e518040"
   },
   "source": [
    "# Assignment: Data Wrangling\n",
    "### `! git clone https://github.com/ds3001f25/wrangling_assignment.git`\n",
    "### Do Q1 and Q2\n",
    "### Reading material: `tidy_data.pdf`"
   ]
  },
  {
   "cell_type": "markdown",
   "id": "da879ea7-8aac-48a3-b6c2-daea56d2e072",
   "metadata": {
    "id": "da879ea7-8aac-48a3-b6c2-daea56d2e072"
   },
   "source": [
    "**Q1.** This question provides some practice cleaning variables which have common problems.\n",
    "1. Numeric variable: For `./data/airbnb_hw.csv`, clean the `Price` variable as well as you can, and explain the choices you make. How many missing values do you end up with? (Hint: What happens to the formatting when a price goes over 999 dollars, say from 675 to 1,112?)\n",
    "2. Categorical variable: For the Minnesota police use of for data, `./data/mn_police_use_of_force.csv`, clean the `subject_injury` variable, handling the NA's; this gives a value `Yes` when a person was injured by police, and `No` when no injury occurred. What proportion of the values are missing? Is this a concern? Cross-tabulate your cleaned `subject_injury` variable with the `force_type` variable. Are there any patterns regarding when the data are missing? \n",
    "3. Dummy variable: For the pretrial data covered in the lecture `./data/justice_data.parquet`, clean the `WhetherDefendantWasReleasedPretrial` variable as well as you can, and, in particular, replace missing values with `np.nan`.\n",
    "4. Missing values, not at random: For the pretrial data covered in the lecture, clean the `ImposedSentenceAllChargeInContactEvent` variable as well as you can, and explain the choices you make. (Hint: Look at the `SentenceTypeAllChargesAtConvictionInContactEvent` variable.)"
   ]
  },
  {
   "cell_type": "code",
   "execution_count": 29,
   "id": "9d412a8d",
   "metadata": {},
   "outputs": [
    {
     "name": "stdout",
     "output_type": "stream",
     "text": [
      "Missing values in Price_clean: 0\n",
      "Proportion missing in subject_injury: 76.19%\n",
      "force_type            Baton  Bodily Force  Chemical Irritant  Firearm  \\\n",
      "subject_injury_clean                                                    \n",
      "No                        0          1093                131        2   \n",
      "Yes                       2          1286                 41        0   \n",
      "NaN                       2          7051               1421        0   \n",
      "\n",
      "force_type            Gun Point Display  Improvised Weapon  Less Lethal  \\\n",
      "subject_injury_clean                                                      \n",
      "No                                   33                 34            0   \n",
      "Yes                                  44                 40            0   \n",
      "NaN                                  27                 74           87   \n",
      "\n",
      "force_type            Less Lethal Projectile  Maximal Restraint Technique  \\\n",
      "subject_injury_clean                                                        \n",
      "No                                         1                            0   \n",
      "Yes                                        2                            0   \n",
      "NaN                                        0                          170   \n",
      "\n",
      "force_type            Police K9 Bite  Taser  \n",
      "subject_injury_clean                         \n",
      "No                                 2    150  \n",
      "Yes                               44    172  \n",
      "NaN                               31    985  \n",
      "Missing values: 0.3938484294788132 (39.38%)\n"
     ]
    }
   ],
   "source": [
    "import pandas as pd\n",
    "import numpy as np\n",
    "airbnb = pd.read_csv(\"./data/airbnb_hw.csv\")\n",
    "\n",
    "# 1\n",
    "\n",
    "# Remove $ and commas, convert to numeric\n",
    "airbnb['Price_clean'] = (\n",
    "    airbnb['Price']\n",
    "    .astype(str)\n",
    "    .str.replace(r'[\\$,]', '', regex=True)  # remove $ and commas\n",
    "    .str.strip()\n",
    ")\n",
    "\n",
    "airbnb['Price_clean'] = pd.to_numeric(airbnb['Price_clean'], errors='coerce')\n",
    "\n",
    "print(f\"Missing values in Price_clean: {airbnb['Price_clean'].isna().sum()}\")\n",
    "\n",
    "# 2\n",
    "\n",
    "police = pd.read_csv(\"./data/mn_police_use_of_force.csv\")\n",
    "\n",
    "police['subject_injury_clean'] = (\n",
    "    police['subject_injury']\n",
    "    .astype(str).str.strip().str.lower()\n",
    "    .replace({\n",
    "        'yes': 'Yes',\n",
    "        'no': 'No',\n",
    "        'nan': pd.NA,  # true NaNs\n",
    "        '': pd.NA\n",
    "    })\n",
    ")\n",
    "\n",
    "# --- Proportion of missing values ---\n",
    "prop_missing = police['subject_injury_clean'].isna().mean()\n",
    "print(f\"Proportion missing in subject_injury: {prop_missing:.2%}\")\n",
    "\n",
    "# --- Cross-tab with force_type ---\n",
    "crosstab = pd.crosstab(police['subject_injury_clean'], \n",
    "                       police['force_type'], \n",
    "                       dropna=False)\n",
    "\n",
    "print(crosstab)\n",
    "\n",
    "# 3\n",
    "justice = pd.read_parquet(\"./data/justice_data.parquet\")\n",
    "\n",
    "justice['ReleasedPretrial_clean'] = (\n",
    "    justice['WhetherDefendantWasReleasedPretrial']\n",
    "    .astype(str).str.strip().str.lower()\n",
    "    .replace({\n",
    "        'yes': 1, 'y': 1, 'released': 1, '1': 1,\n",
    "        'no': 0, 'n': 0, 'not released': 0, '0': 0,\n",
    "        'nan': np.nan, '': np.nan,\n",
    "    })\n",
    ")\n",
    "\n",
    "justice['ReleasedPretrial_clean'] = pd.to_numeric(\n",
    "    justice['ReleasedPretrial_clean'], errors='coerce'\n",
    ")\n",
    "\n",
    "# 4\n",
    "\n",
    "justice['ImposedSentenceAllChargeInContactEvent'].value_counts(dropna=False)\n",
    "justice['SentenceTypeAllChargesAtConvictionInContactEvent'].value_counts(dropna=False)\n",
    "\n",
    "justice['imposed_sentence_clean'] = pd.to_numeric(\n",
    "    justice['ImposedSentenceAllChargeInContactEvent'], errors='coerce'\n",
    ")\n",
    "\n",
    "# Keep missing values as np.nan\n",
    "missing_count = justice['imposed_sentence_clean'].isna().mean()\n",
    "print(f\"Missing values: {missing_count} ({missing_count:.2%})\")\n"
   ]
  },
  {
   "cell_type": "markdown",
   "id": "d2de51b5",
   "metadata": {},
   "source": [
    "1. For cleaning the data, I removed the '$' and ',' symbols, as those are commonly found in numbers. This avoids the issue when price goes from 675 to 1,112, as it is getting rid of the comma. There were 0 missing values after the cleaning.\n",
    "\n",
    "2. The proportion of missing values is 76.19%, which is really high and is a concern. Cross-tabbing with force-type, we can see that there are patterns with force-type, and that certain categories such as Less Lethal Projectile and Maximal Restraint Technique have all null values, while most of Taser is null as well. This suggests that the injury reporting for subject_injury was systematic, with certain force types such as Less Lethal Projectile and Maximal Restraint Technique not including the field at all. Its possible that these categories weren't required to report subject_inquiry, although over 75% of the records for subject_injury being missing is still concerning.\n",
    "\n",
    "3. After cleaning the 'WhetherDefendantWasReleasedPretrial' variable and replacing all the missing values with np.nan, we can see that 19154 people were released pretrial, 3801 weren't, and 31 enteries were missing.\n",
    "\n",
    "4. To clean the ImposedSentenceAllChargeInContactEvent variable, I cleaned the variable by converting all valid numeric sentence values into numbers and coercing anything non-numeric (like text codes or blanks) into NaN. I then chose to leave the missing values as NaN instead of imputing them, since they aren't random, and they correspond to sentence types where no numeric length applies. This way, the cleaned column is usable for analysis while still preserving the informative pattern of missingness."
   ]
  },
  {
   "cell_type": "markdown",
   "id": "5a60a44e",
   "metadata": {},
   "source": [
    "**Q2.** Go to https://sharkattackfile.net/ and download their dataset on shark attacks (Hint: `GSAF5.xls`).\n",
    "\n",
    "1. Open the shark attack file using Pandas. It is probably not a csv file, so `read_csv` won't work.\n",
    "2. Drop any columns that do not contain data.\n",
    "3. Clean the year variable. Describe the range of values you see. Filter the rows to focus on attacks since 1940. Are attacks increasing, decreasing, or remaining constant over time?\n",
    "4. Clean the Age variable and make a histogram of the ages of the victims.\n",
    "5. What proportion of victims are male?\n",
    "6. Clean the `Type` variable so it only takes three values: Provoked and Unprovoked and Unknown. What proportion of attacks are unprovoked?\n",
    "7. Clean the `Fatal Y/N` variable so it only takes three values: Y, N, and Unknown.\n",
    "8. Are sharks more likely to launch unprovoked attacks on men or women? Is the attack more or less likely to be fatal when the attack is provoked or unprovoked? Is it more or less likely to be fatal when the victim is male or female? How do you feel about sharks?\n",
    "9. What proportion of attacks appear to be by white sharks? (Hint: `str.split()` makes a vector of text values into a list of lists, split by spaces.)"
   ]
  },
  {
   "cell_type": "code",
   "execution_count": null,
   "id": "a3f03830",
   "metadata": {},
   "outputs": [
    {
     "name": "stdout",
     "output_type": "stream",
     "text": [
      "0.0 2026.0\n"
     ]
    },
    {
     "data": {
      "image/png": "[encoded data removed]",
      "text/plain": [
       "<Figure size 640x480 with 1 Axes>"
      ]
     },
     "metadata": {},
     "output_type": "display_data"
    }
   ],
   "source": [
    "import pandas as pd\n",
    "\n",
    "df = pd.read_excel(\"./data/GSAF5.xls\")\n",
    "\n",
    "# Drop columns that do not contain any data\n",
    "df = df.dropna(axis=1, how=\"all\")\n",
    "\n",
    "# Clean 'Year' column\n",
    "df['Year'] = pd.to_numeric(df['Year'], errors='coerce')\n",
    "print(df['Year'].min(), df['Year'].max()) # Range of values\n",
    "\n",
    "# Focus on attacks since 1940\n",
    "df_recent = df[df['Year'] >= 1940]\n",
    "\n",
    "# Count attacks per year\n",
    "attacks_per_year = df_recent.groupby('Year').size()\n",
    "attacks_per_year.plot(kind='line', title=\"Shark Attacks Since 1940\")\n",
    "\n",
    "# Clean 'Age' column and plot histogram\n",
    "df['Age'] = pd.to_numeric(df['Age'], errors='coerce')\n",
    "df['Age'].dropna().hist(bins=20)\n",
    "\n",
    "# Propotion of male victims\n",
    "df['Sex'] = df['Sex'].str.upper().str.strip()\n",
    "prop_male = (df['Sex'] == 'M').mean()\n",
    "\n",
    "# Clean 'Type' column and calculate proportion of unprovoked attacks\n",
    "def clean_type(x):\n",
    "    if isinstance(x, str):\n",
    "        if \"PROVOKED\" in x.upper():\n",
    "            return \"Provoked\"\n",
    "        elif \"UNPROVOKED\" in x.upper():\n",
    "            return \"Unprovoked\"\n",
    "    return \"Unknown\"\n",
    "\n",
    "df['Type_Clean'] = df['Type'].apply(clean_type)\n",
    "prop_unprovoked = (df['Type_Clean'] == \"Unprovoked\").mean()\n",
    "\n",
    "# Clean 'Fatal Y/N' column\n",
    "def clean_fatal(x):\n",
    "    if x in ['Y', 'N']:\n",
    "        return x\n",
    "    return \"Unknown\"\n",
    "\n",
    "df['Fatal_Clean'] = df['Fatal Y/N'].apply(clean_fatal)\n",
    "\n",
    "\n",
    "# 8\n",
    "pd.crosstab(df['Sex'], df['Type_Clean'], normalize='index')\n",
    "pd.crosstab(df['Type_Clean'], df['Fatal_Clean'], normalize='index')\n",
    "pd.crosstab(df['Sex'], df['Fatal_Clean'], normalize='index')\n",
    "\n",
    "# 9\n",
    "df['Species '] = df['Species '].fillna(\"\").str.upper()\n",
    "white_shark = df['Species '].str.contains(\"WHITE\", na=False)\n",
    "prop_white = white_shark.mean()\n",
    "\n"
   ]
  }
 ],
 "metadata": {
  "colab": {
   "provenance": []
  },
  "kernelspec": {
   "display_name": "Python 3",
   "language": "python",
   "name": "python3"
  },
  "language_info": {
   "codemirror_mode": {
    "name": "ipython",
    "version": 3
   },
   "file_extension": ".py",
   "mimetype": "text/x-python",
   "name": "python",
   "nbconvert_exporter": "python",
   "pygments_lexer": "ipython3",
   "version": "3.12.2"
  }
 },
 "nbformat": 4,
 "nbformat_minor": 5
}
